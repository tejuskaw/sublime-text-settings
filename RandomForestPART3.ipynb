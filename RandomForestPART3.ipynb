{
  "nbformat": 4,
  "nbformat_minor": 0,
  "metadata": {
    "colab": {
      "name": "RandomForestPART3.ipynb",
      "provenance": [],
      "mount_file_id": "15i-sa0uwOseW5f9z9tbLsyvA5Pqm0JO-",
      "authorship_tag": "ABX9TyMHSi+6xasYrfx1l8hTrpQA",
      "include_colab_link": true
    },
    "kernelspec": {
      "name": "python3",
      "display_name": "Python 3"
    },
    "language_info": {
      "name": "python"
    }
  },
  "cells": [
    {
      "cell_type": "markdown",
      "metadata": {
        "id": "view-in-github",
        "colab_type": "text"
      },
      "source": [
        "<a href=\"https://colab.research.google.com/github/tejvirus0003/sublime-text-settings/blob/main/RandomForestPART3.ipynb\" target=\"_parent\"><img src=\"https://colab.research.google.com/assets/colab-badge.svg\" alt=\"Open In Colab\"/></a>"
      ]
    },
    {
      "cell_type": "code",
      "metadata": {
        "id": "6yVgWDq7o8Kz"
      },
      "source": [
        "import numpy as np\n",
        "import pandas as pd\n",
        "import sklearn"
      ],
      "execution_count": 1,
      "outputs": []
    },
    {
      "cell_type": "code",
      "metadata": {
        "id": "_CQMDmMKpMD7"
      },
      "source": [
        "from sklearn.model_selection import RandomizedSearchCV"
      ],
      "execution_count": 2,
      "outputs": []
    },
    {
      "cell_type": "code",
      "metadata": {
        "id": "IQ6n9557pnLL"
      },
      "source": [
        "from sklearn.ensemble import RandomForestClassifier"
      ],
      "execution_count": 3,
      "outputs": []
    },
    {
      "cell_type": "code",
      "metadata": {
        "id": "sd0Mo5uZptof"
      },
      "source": [
        "from sklearn.tree import DecisionTreeClassifier"
      ],
      "execution_count": 4,
      "outputs": []
    },
    {
      "cell_type": "code",
      "metadata": {
        "id": "2fnwyAiwqDKP"
      },
      "source": [
        "X = pd.read_csv('/content/drive/MyDrive/X.csv')"
      ],
      "execution_count": 5,
      "outputs": []
    },
    {
      "cell_type": "code",
      "metadata": {
        "id": "92-AcsABqUFz"
      },
      "source": [
        "Y = pd.read_csv('/content/drive/MyDrive/Y.csv')"
      ],
      "execution_count": 6,
      "outputs": []
    },
    {
      "cell_type": "code",
      "metadata": {
        "id": "BHQOadvqqjvQ"
      },
      "source": [
        "model1para = {'bootstrap': [True, False],\n",
        " 'max_depth': [10, 20, 30, None],\n",
        " 'max_features': ['auto', 'sqrt'],\n",
        " 'min_samples_leaf': [1, 2],\n",
        " 'min_samples_split': [ 5, 10],\n",
        " 'n_estimators': [200, 800, 1600, 2000]}"
      ],
      "execution_count": 7,
      "outputs": []
    },
    {
      "cell_type": "code",
      "metadata": {
        "id": "X47o3DQDqrw8"
      },
      "source": [
        "model1 = RandomForestClassifier()"
      ],
      "execution_count": 8,
      "outputs": []
    },
    {
      "cell_type": "code",
      "metadata": {
        "id": "kikh8iMTrj_h"
      },
      "source": [
        "mp1 = RandomizedSearchCV(model1 , model1para , cv=5)"
      ],
      "execution_count": 9,
      "outputs": []
    },
    {
      "cell_type": "code",
      "metadata": {
        "id": "X-OBNeC4r0ba"
      },
      "source": [
        "mp1.fit(X,Y)"
      ],
      "execution_count": null,
      "outputs": []
    },
    {
      "cell_type": "code",
      "metadata": {
        "id": "2wBqpxj5r67n"
      },
      "source": [
        ""
      ],
      "execution_count": null,
      "outputs": []
    }
  ]
}